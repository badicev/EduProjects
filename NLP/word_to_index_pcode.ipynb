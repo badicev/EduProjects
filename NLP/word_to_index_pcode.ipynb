{
 "cells": [
  {
   "cell_type": "code",
   "execution_count": 3,
   "metadata": {},
   "outputs": [],
   "source": [
    "#word_tokenize = nltk.word_tokenize\n",
    "\n",
    "def word_to_index(documents):\n",
    "    word_to_index = {}\n",
    "    for doc in documents:\n",
    "        tokens = word_tokenize(doc)\n",
    "        for token in tokens:\n",
    "            if token not in word_to_index:\n",
    "                word_to_index[token] = len(word_to_index)\n",
    "    return word_to_index"
   ]
  },
  {
   "cell_type": "code",
   "execution_count": 4,
   "metadata": {},
   "outputs": [],
   "source": [
    "def index_to_word(documents):\n",
    "    index_to_word = {}\n",
    "    for doc in documents:\n",
    "        tokens = word_tokenize(doc)\n",
    "        for token in tokens:\n",
    "            if token not in index_to_word:\n",
    "                index_to_word[len(index_to_word)] = token\n",
    "    return index_to_word"
   ]
  },
  {
   "cell_type": "code",
   "execution_count": null,
   "metadata": {},
   "outputs": [],
   "source": []
  }
 ],
 "metadata": {
  "kernelspec": {
   "display_name": "Python 3",
   "language": "python",
   "name": "python3"
  },
  "language_info": {
   "codemirror_mode": {
    "name": "ipython",
    "version": 3
   },
   "file_extension": ".py",
   "mimetype": "text/x-python",
   "name": "python",
   "nbconvert_exporter": "python",
   "pygments_lexer": "ipython3",
   "version": "3.11.0"
  },
  "orig_nbformat": 4,
  "vscode": {
   "interpreter": {
    "hash": "48568052eec3e48bec5163d0241420ad0cb3738ffc0c56fbb083086b8e264995"
   }
  }
 },
 "nbformat": 4,
 "nbformat_minor": 2
}
