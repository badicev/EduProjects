{
 "cells": [
  {
   "attachments": {},
   "cell_type": "markdown",
   "metadata": {},
   "source": [
    "Text Summarization with TF-IDF \n",
    "* High-level outline\n",
    "* Split the document into sentences\n",
    "* Score each sentence based on word frequency\n",
    "* Rank the sentences based on their scores\n",
    "* Summary is the top ranked sentences\n"
   ]
  },
  {
   "cell_type": "code",
   "execution_count": 1,
   "metadata": {},
   "outputs": [],
   "source": [
    "#nltk.sent_tokenize(my_text) # Split the text into sentences\n",
    "#Build TF-IDF, treat each sentence as a document\n",
    "#We only need the document that we want to summarize"
   ]
  },
  {
   "cell_type": "code",
   "execution_count": 2,
   "metadata": {},
   "outputs": [],
   "source": [
    "#score = Average(non-zero TF-IDF values)"
   ]
  },
  {
   "attachments": {},
   "cell_type": "markdown",
   "metadata": {},
   "source": [
    "*TODO:*\n",
    "* Pick an article\n",
    "* Split the article into sentences\n",
    "* Compute the TF-IDF matrix from list of sentences\n",
    "* Score each sentence by taking average of non-zero TF-IDF values\n",
    "* Sort each sentence by score\n",
    "* Print the top scoring sentences as the summary"
   ]
  },
  {
   "cell_type": "code",
   "execution_count": 59,
   "metadata": {},
   "outputs": [],
   "source": [
    "#pick a random article \n",
    "import random\n",
    "import numpy as np\n",
    "import pandas as pd\n",
    "import nltk\n",
    "from sklearn.feature_extraction.text import TfidfVectorizer\n",
    "\n",
    "\n",
    "df = pd.read_csv(r'data\\bbc_text_cls.csv')\n",
    "\n",
    "np.random.seed(44)\n",
    "\n",
    "#a random article as an article 1\n",
    "article1 = df['text'][np.random.randint(0, len(df))]\n",
    "article2 = df['text'][np.random.randint(0, len(df))]\n",
    "article3 = df['text'][np.random.randint(0, len(df))]\n",
    "article4 = df['text'][np.random.randint(0, len(df))]\n",
    "article5 = df['text'][np.random.randint(0, len(df))]\n",
    "\n",
    "news_articles = [article1, article2, article3, article4, article5]\n",
    "article = random.choice(news_articles)"
   ]
  },
  {
   "cell_type": "code",
   "execution_count": 60,
   "metadata": {},
   "outputs": [
    {
     "data": {
      "text/plain": [
       "'Galloway targets \\'New Labour\\' MP\\n\\nGeorge Galloway is to stand against pro-Iraq war Labour MP Oona King at the next general election.\\n\\nMr Galloway, who on Thursday won £150,000 in libel damages from the Daily Telegraph said he would contest Bethnal Green, in London, for Respect. The Glasgow Kelvin MP, who was expelled from Labour over his anti Iraq war stance, accused Ms King of being a \"New Labour stooge\". Ms King said she was \"delighted\" at the chance to take on Mr Galloway.\\n\\nMr Galloway\\'s current constituency is set to disappear under planned boundary changes in Scotland.\\n\\nThe 50-year-old MP launched Respect, the Unity Coalition, in January along with 1,000 anti-war activists, and the Muslim Association of Britain. The party\\'s declared aims are an end to the occupation of Iraq, the repeal of anti-union laws and the end of privatisation. Speaking from a cafe in Brick Lane, east London, Mr Galloway said he had accepted the party\\'s invitation to stand with \"great honour and pride\".\\n\\nHe added: \"Here in this constituency of Bethnal Green and Bow there is a New Labour stooge MP. \"A stooge who will sing any song, make any speech, do any dance, do anything she is told to by Tony Blair - irrespective of how her constituents are adversely affected or how strongly they feel to the contrary.\" Ms King has represented the constituency since 1997. She said: \"I\\'m delighted I\\'ve been given the chance to finish him (Mr Galloway) off, and believe me I will. \"I know many people around the country will be grateful, not least his constituents in Scotland who he has shamelessly abandoned.\" In June\\'s European Parliament elections, Respect failed to gain enough votes for an MEP but did come first in Tower Hamlets borough, most of which is covered by the Commons constituency of Bethnal Green and Bow.\\n\\nA month later it gained a council seat in a by-election in St Dunstan\\'s and Stepney Green ward, Tower Hamlets. Mr Galloway said that in next year\\'s expected general election and local elections a year later, the party would \"turn the East End of London into a fortress\". Both the Conservatives and the Liberal Democrats have chosen prospective parliamentary candidates for Bethnal Green and Bow from the Bangladeshi population, which makes up almost half the electorate. The Telegraph was sued for libel by Mr Galloway after the newspaper claimed he received money from Saddam Hussein\\'s regime in Iraq. The newspaper said it was in the public interest to publish the claims, based on documents found in Baghdad. Mr Justice Eady said he was \"obliged to compensate Mr Galloway... and to make an award for the purposes of restoring his reputation\".'"
      ]
     },
     "execution_count": 60,
     "metadata": {},
     "output_type": "execute_result"
    }
   ],
   "source": [
    "article"
   ]
  },
  {
   "cell_type": "code",
   "execution_count": 61,
   "metadata": {},
   "outputs": [
    {
     "data": {
      "text/plain": [
       "[\"Galloway targets 'New Labour' MP\\n\\nGeorge Galloway is to stand against pro-Iraq war Labour MP Oona King at the next general election.\",\n",
       " 'Mr Galloway, who on Thursday won £150,000 in libel damages from the Daily Telegraph said he would contest Bethnal Green, in London, for Respect.',\n",
       " 'The Glasgow Kelvin MP, who was expelled from Labour over his anti Iraq war stance, accused Ms King of being a \"New Labour stooge\".',\n",
       " 'Ms King said she was \"delighted\" at the chance to take on Mr Galloway.',\n",
       " \"Mr Galloway's current constituency is set to disappear under planned boundary changes in Scotland.\",\n",
       " 'The 50-year-old MP launched Respect, the Unity Coalition, in January along with 1,000 anti-war activists, and the Muslim Association of Britain.',\n",
       " \"The party's declared aims are an end to the occupation of Iraq, the repeal of anti-union laws and the end of privatisation.\",\n",
       " 'Speaking from a cafe in Brick Lane, east London, Mr Galloway said he had accepted the party\\'s invitation to stand with \"great honour and pride\".',\n",
       " 'He added: \"Here in this constituency of Bethnal Green and Bow there is a New Labour stooge MP.',\n",
       " '\"A stooge who will sing any song, make any speech, do any dance, do anything she is told to by Tony Blair - irrespective of how her constituents are adversely affected or how strongly they feel to the contrary.\"',\n",
       " 'Ms King has represented the constituency since 1997.',\n",
       " 'She said: \"I\\'m delighted I\\'ve been given the chance to finish him (Mr Galloway) off, and believe me I will.',\n",
       " '\"I know many people around the country will be grateful, not least his constituents in Scotland who he has shamelessly abandoned.\"',\n",
       " \"In June's European Parliament elections, Respect failed to gain enough votes for an MEP but did come first in Tower Hamlets borough, most of which is covered by the Commons constituency of Bethnal Green and Bow.\",\n",
       " \"A month later it gained a council seat in a by-election in St Dunstan's and Stepney Green ward, Tower Hamlets.\",\n",
       " 'Mr Galloway said that in next year\\'s expected general election and local elections a year later, the party would \"turn the East End of London into a fortress\".',\n",
       " 'Both the Conservatives and the Liberal Democrats have chosen prospective parliamentary candidates for Bethnal Green and Bow from the Bangladeshi population, which makes up almost half the electorate.',\n",
       " \"The Telegraph was sued for libel by Mr Galloway after the newspaper claimed he received money from Saddam Hussein's regime in Iraq.\",\n",
       " 'The newspaper said it was in the public interest to publish the claims, based on documents found in Baghdad.',\n",
       " 'Mr Justice Eady said he was \"obliged to compensate Mr Galloway... and to make an award for the purposes of restoring his reputation\".']"
      ]
     },
     "execution_count": 61,
     "metadata": {},
     "output_type": "execute_result"
    }
   ],
   "source": [
    "#split the article into sentences\n",
    "sentences = nltk.sent_tokenize(article)\n",
    "sentences"
   ]
  },
  {
   "cell_type": "code",
   "execution_count": 62,
   "metadata": {},
   "outputs": [
    {
     "data": {
      "text/plain": [
       "<20x168 sparse matrix of type '<class 'numpy.float64'>'\n",
       "\twith 248 stored elements in Compressed Sparse Row format>"
      ]
     },
     "execution_count": 62,
     "metadata": {},
     "output_type": "execute_result"
    }
   ],
   "source": [
    "tfidf = TfidfVectorizer(stop_words='english')\n",
    "response = tfidf.fit_transform(sentences)\n",
    "response"
   ]
  },
  {
   "cell_type": "code",
   "execution_count": 63,
   "metadata": {},
   "outputs": [
    {
     "data": {
      "text/plain": [
       "array([0.02159472, 0.02333557, 0.02165665, 0.01543913, 0.01840456,\n",
       "       0.02367979, 0.01912166, 0.02336708, 0.0177454 , 0.02376283,\n",
       "       0.01316706, 0.01736206, 0.01681136, 0.02642429, 0.02133683,\n",
       "       0.02277065, 0.02289926, 0.0210853 , 0.01665748, 0.02026905])"
      ]
     },
     "execution_count": 63,
     "metadata": {},
     "output_type": "execute_result"
    }
   ],
   "source": [
    "#take average of non_zero tfidf values\n",
    "scores = np.mean(response.toarray(), axis=1)\n",
    "scores"
   ]
  },
  {
   "cell_type": "code",
   "execution_count": 64,
   "metadata": {},
   "outputs": [
    {
     "data": {
      "text/plain": [
       "[\"In June's European Parliament elections, Respect failed to gain enough votes for an MEP but did come first in Tower Hamlets borough, most of which is covered by the Commons constituency of Bethnal Green and Bow.\",\n",
       " '\"A stooge who will sing any song, make any speech, do any dance, do anything she is told to by Tony Blair - irrespective of how her constituents are adversely affected or how strongly they feel to the contrary.\"',\n",
       " 'The 50-year-old MP launched Respect, the Unity Coalition, in January along with 1,000 anti-war activists, and the Muslim Association of Britain.',\n",
       " 'Speaking from a cafe in Brick Lane, east London, Mr Galloway said he had accepted the party\\'s invitation to stand with \"great honour and pride\".',\n",
       " 'Mr Galloway, who on Thursday won £150,000 in libel damages from the Daily Telegraph said he would contest Bethnal Green, in London, for Respect.',\n",
       " 'Both the Conservatives and the Liberal Democrats have chosen prospective parliamentary candidates for Bethnal Green and Bow from the Bangladeshi population, which makes up almost half the electorate.',\n",
       " 'Mr Galloway said that in next year\\'s expected general election and local elections a year later, the party would \"turn the East End of London into a fortress\".',\n",
       " 'The Glasgow Kelvin MP, who was expelled from Labour over his anti Iraq war stance, accused Ms King of being a \"New Labour stooge\".',\n",
       " \"Galloway targets 'New Labour' MP\\n\\nGeorge Galloway is to stand against pro-Iraq war Labour MP Oona King at the next general election.\",\n",
       " \"A month later it gained a council seat in a by-election in St Dunstan's and Stepney Green ward, Tower Hamlets.\",\n",
       " \"The Telegraph was sued for libel by Mr Galloway after the newspaper claimed he received money from Saddam Hussein's regime in Iraq.\",\n",
       " 'Mr Justice Eady said he was \"obliged to compensate Mr Galloway... and to make an award for the purposes of restoring his reputation\".',\n",
       " \"The party's declared aims are an end to the occupation of Iraq, the repeal of anti-union laws and the end of privatisation.\",\n",
       " \"Mr Galloway's current constituency is set to disappear under planned boundary changes in Scotland.\",\n",
       " 'He added: \"Here in this constituency of Bethnal Green and Bow there is a New Labour stooge MP.',\n",
       " 'She said: \"I\\'m delighted I\\'ve been given the chance to finish him (Mr Galloway) off, and believe me I will.',\n",
       " '\"I know many people around the country will be grateful, not least his constituents in Scotland who he has shamelessly abandoned.\"',\n",
       " 'The newspaper said it was in the public interest to publish the claims, based on documents found in Baghdad.',\n",
       " 'Ms King said she was \"delighted\" at the chance to take on Mr Galloway.',\n",
       " 'Ms King has represented the constituency since 1997.']"
      ]
     },
     "execution_count": 64,
     "metadata": {},
     "output_type": "execute_result"
    }
   ],
   "source": [
    "#sort the sentences based on the scores\n",
    "ranked_sentences = [sentences[index] for index in scores.argsort()[::-1]]\n",
    "ranked_sentences\n"
   ]
  },
  {
   "cell_type": "code",
   "execution_count": 65,
   "metadata": {},
   "outputs": [
    {
     "data": {
      "text/plain": [
       "'In June\\'s European Parliament elections, Respect failed to gain enough votes for an MEP but did come first in Tower Hamlets borough, most of which is covered by the Commons constituency of Bethnal Green and Bow. \"A stooge who will sing any song, make any speech, do any dance, do anything she is told to by Tony Blair - irrespective of how her constituents are adversely affected or how strongly they feel to the contrary.\" The 50-year-old MP launched Respect, the Unity Coalition, in January along with 1,000 anti-war activists, and the Muslim Association of Britain.'"
      ]
     },
     "execution_count": 65,
     "metadata": {},
     "output_type": "execute_result"
    }
   ],
   "source": [
    "summary = ' '.join(ranked_sentences[0:3])\n",
    "summary"
   ]
  },
  {
   "attachments": {},
   "cell_type": "markdown",
   "metadata": {},
   "source": [
    "Alternatively:"
   ]
  },
  {
   "cell_type": "code",
   "execution_count": 66,
   "metadata": {},
   "outputs": [
    {
     "data": {
      "text/html": [
       "<div>\n",
       "<style scoped>\n",
       "    .dataframe tbody tr th:only-of-type {\n",
       "        vertical-align: middle;\n",
       "    }\n",
       "\n",
       "    .dataframe tbody tr th {\n",
       "        vertical-align: top;\n",
       "    }\n",
       "\n",
       "    .dataframe thead th {\n",
       "        text-align: right;\n",
       "    }\n",
       "</style>\n",
       "<table border=\"1\" class=\"dataframe\">\n",
       "  <thead>\n",
       "    <tr style=\"text-align: right;\">\n",
       "      <th></th>\n",
       "      <th>text</th>\n",
       "      <th>labels</th>\n",
       "    </tr>\n",
       "  </thead>\n",
       "  <tbody>\n",
       "    <tr>\n",
       "      <th>0</th>\n",
       "      <td>Ad sales boost Time Warner profit\\n\\nQuarterly...</td>\n",
       "      <td>business</td>\n",
       "    </tr>\n",
       "    <tr>\n",
       "      <th>1</th>\n",
       "      <td>Dollar gains on Greenspan speech\\n\\nThe dollar...</td>\n",
       "      <td>business</td>\n",
       "    </tr>\n",
       "    <tr>\n",
       "      <th>2</th>\n",
       "      <td>Yukos unit buyer faces loan claim\\n\\nThe owner...</td>\n",
       "      <td>business</td>\n",
       "    </tr>\n",
       "    <tr>\n",
       "      <th>3</th>\n",
       "      <td>High fuel prices hit BA's profits\\n\\nBritish A...</td>\n",
       "      <td>business</td>\n",
       "    </tr>\n",
       "    <tr>\n",
       "      <th>4</th>\n",
       "      <td>Pernod takeover talk lifts Domecq\\n\\nShares in...</td>\n",
       "      <td>business</td>\n",
       "    </tr>\n",
       "  </tbody>\n",
       "</table>\n",
       "</div>"
      ],
      "text/plain": [
       "                                                text    labels\n",
       "0  Ad sales boost Time Warner profit\\n\\nQuarterly...  business\n",
       "1  Dollar gains on Greenspan speech\\n\\nThe dollar...  business\n",
       "2  Yukos unit buyer faces loan claim\\n\\nThe owner...  business\n",
       "3  High fuel prices hit BA's profits\\n\\nBritish A...  business\n",
       "4  Pernod takeover talk lifts Domecq\\n\\nShares in...  business"
      ]
     },
     "execution_count": 66,
     "metadata": {},
     "output_type": "execute_result"
    }
   ],
   "source": [
    "df.head()"
   ]
  },
  {
   "cell_type": "code",
   "execution_count": 71,
   "metadata": {},
   "outputs": [],
   "source": [
    "doc = df[df.labels == 'tech']['text'].sample(random_state=44)"
   ]
  },
  {
   "cell_type": "code",
   "execution_count": 72,
   "metadata": {},
   "outputs": [
    {
     "data": {
      "text/plain": [
       "1911    Voters flock to blog awards site\\n\\nVoting is ...\n",
       "Name: text, dtype: object"
      ]
     },
     "execution_count": 72,
     "metadata": {},
     "output_type": "execute_result"
    }
   ],
   "source": [
    "doc"
   ]
  },
  {
   "cell_type": "code",
   "execution_count": 73,
   "metadata": {},
   "outputs": [],
   "source": [
    "import textwrap\n",
    "\n",
    "def wrap(x):\n",
    "    return textwrap.fill(x, replace_whitespace=False, fix_sentence_endings=True, width=80)"
   ]
  },
  {
   "cell_type": "code",
   "execution_count": 75,
   "metadata": {},
   "outputs": [
    {
     "name": "stdout",
     "output_type": "stream",
     "text": [
      "Voters flock to blog awards site\n",
      "\n",
      "Voting is under way for the annual Bloggies\n",
      "which recognise the best web blogs - online spaces where people publish their\n",
      "thoughts - of the year.\n",
      "\n",
      "Nominations were announced on Sunday, but traffic to\n",
      "the official site was so heavy that the website was temporarily closed because\n",
      "of too many visitors.  Weblogs have been nominated in 30 categories, from the\n",
      "top regional blog, to the best-kept-secret blog.  Blogs had a huge year, with a\n",
      "top US dictionary naming \"blog\" word of 2004. Technorati, a blog search engine,\n",
      "tracks about six million blogs and says that more than 12,000 are added daily.\n",
      "A blog is created every 5.8 seconds, according to US research think-tank Pew\n",
      "Internet and American Life, but less than 40% of the total are updated at least\n",
      "once every two months.\n",
      "\n",
      "Nikolai Nolan, who has run the Bloggies for the past\n",
      "five years, told the BBC News website he was not too surprised by the amount of\n",
      "voters who crowded the site.  \"The awards always get a lot of traffic; this was\n",
      "just my first year on a server with a bandwidth limit, so I had to guess how\n",
      "much I'd need,\" he said.  There were many new finalists this year, he added, and\n",
      "a few that had won Bloggies before.  Several entries reflected specific news\n",
      "events.  \"There are four nominations for the South-East Asia Earthquake and\n",
      "Tsunami Blog, which is a pretty timely one for 2005,\" said Mr Nolan.\n",
      "\n",
      "The big\n",
      "Bloggies battle will be for the ultimate prize of blog of the year.  The\n",
      "nominated blogs are wide-ranging covering what is in the news to quirky sites of\n",
      "interest.  Fighting it out for the coveted award are Gawker, This Fish Needs a\n",
      "Bicycle, Wonkette, Boing Boing, and Gothamist.  In a sign that blogs are playing\n",
      "an increasingly key part in spreading news and current affairs, The South-East\n",
      "Asia Earthquake and Tsunami Blog is also nominated in the best overall category.\n",
      "GreenFairyDotcom, Londonist, Hicksdesign, PlasticBag and London Underground Tube\n",
      "Blog are the nominees in the best British or Irish weblog.\n",
      "\n",
      "Included in the\n",
      "other categories is best \"meme\". This is for the top \"replicating idea that\n",
      "spread about weblogs\". Nominations include Flickr, a web photo album which lets\n",
      "people upload, tag, share and publish their images to blogs.  Podcasting has\n",
      "also made an appearance in the category.  It is an increasingly popular idea\n",
      "that makes use of RSS (really simple syndication) and audio technology to let\n",
      "people easily make their own radio shows, and distribute them automatically onto\n",
      "portable devices.\n",
      "\n",
      "Many are done by those who already have text-based blogs, so\n",
      "they are almost like audio blogs.  Three new categories have been added to the\n",
      "list this year, including best food, best entertainment, and best writing of a\n",
      "weblog.  One of the categories that was scrapped though was best music blog.\n",
      "The winners of the fifth annual Bloggies are chosen by the public.  Public\n",
      "voting closes on 3 February and the winners will be announced sometime between\n",
      "13 and 15 March.\n"
     ]
    }
   ],
   "source": [
    "print(wrap(doc.iloc[0]))"
   ]
  },
  {
   "cell_type": "code",
   "execution_count": 76,
   "metadata": {},
   "outputs": [],
   "source": [
    "sentences = nltk.sent_tokenize(doc.iloc[0].split('\\n', 1)[1]) #iloc to get the first row as a string"
   ]
  },
  {
   "cell_type": "code",
   "execution_count": 77,
   "metadata": {},
   "outputs": [
    {
     "data": {
      "text/plain": [
       "['\\nVoting is under way for the annual Bloggies which recognise the best web blogs - online spaces where people publish their thoughts - of the year.',\n",
       " 'Nominations were announced on Sunday, but traffic to the official site was so heavy that the website was temporarily closed because of too many visitors.',\n",
       " 'Weblogs have been nominated in 30 categories, from the top regional blog, to the best-kept-secret blog.',\n",
       " 'Blogs had a huge year, with a top US dictionary naming \"blog\" word of 2004.',\n",
       " 'Technorati, a blog search engine, tracks about six million blogs and says that more than 12,000 are added daily.',\n",
       " 'A blog is created every 5.8 seconds, according to US research think-tank Pew Internet and American Life, but less than 40% of the total are updated at least once every two months.',\n",
       " 'Nikolai Nolan, who has run the Bloggies for the past five years, told the BBC News website he was not too surprised by the amount of voters who crowded the site.',\n",
       " '\"The awards always get a lot of traffic; this was just my first year on a server with a bandwidth limit, so I had to guess how much I\\'d need,\" he said.',\n",
       " 'There were many new finalists this year, he added, and a few that had won Bloggies before.',\n",
       " 'Several entries reflected specific news events.',\n",
       " '\"There are four nominations for the South-East Asia Earthquake and Tsunami Blog, which is a pretty timely one for 2005,\" said Mr Nolan.',\n",
       " 'The big Bloggies battle will be for the ultimate prize of blog of the year.',\n",
       " 'The nominated blogs are wide-ranging covering what is in the news to quirky sites of interest.',\n",
       " 'Fighting it out for the coveted award are Gawker, This Fish Needs a Bicycle, Wonkette, Boing Boing, and Gothamist.',\n",
       " 'In a sign that blogs are playing an increasingly key part in spreading news and current affairs, The South-East Asia Earthquake and Tsunami Blog is also nominated in the best overall category.',\n",
       " 'GreenFairyDotcom, Londonist, Hicksdesign, PlasticBag and London Underground Tube Blog are the nominees in the best British or Irish weblog.',\n",
       " 'Included in the other categories is best \"meme\".',\n",
       " 'This is for the top \"replicating idea that spread about weblogs\".',\n",
       " 'Nominations include Flickr, a web photo album which lets people upload, tag, share and publish their images to blogs.',\n",
       " 'Podcasting has also made an appearance in the category.',\n",
       " 'It is an increasingly popular idea that makes use of RSS (really simple syndication) and audio technology to let people easily make their own radio shows, and distribute them automatically onto portable devices.',\n",
       " 'Many are done by those who already have text-based blogs, so they are almost like audio blogs.',\n",
       " 'Three new categories have been added to the list this year, including best food, best entertainment, and best writing of a weblog.',\n",
       " 'One of the categories that was scrapped though was best music blog.',\n",
       " 'The winners of the fifth annual Bloggies are chosen by the public.',\n",
       " 'Public voting closes on 3 February and the winners will be announced sometime between 13 and 15 March.']"
      ]
     },
     "execution_count": 77,
     "metadata": {},
     "output_type": "execute_result"
    }
   ],
   "source": [
    "sentences"
   ]
  },
  {
   "cell_type": "code",
   "execution_count": 78,
   "metadata": {},
   "outputs": [],
   "source": [
    "featurizer = TfidfVectorizer(stop_words='english', norm=\"l1\")"
   ]
  },
  {
   "cell_type": "code",
   "execution_count": 79,
   "metadata": {},
   "outputs": [],
   "source": [
    "X = featurizer.fit_transform(sentences)"
   ]
  },
  {
   "cell_type": "code",
   "execution_count": 80,
   "metadata": {},
   "outputs": [],
   "source": [
    "def get_sentence_score(tfidf_row):\n",
    "    #return the average of non-zero values\n",
    "    #of the tfidf vector representing a sentence\n",
    "    x = tfidf_row[tfidf_row.nonzero()]\n",
    "    return np.mean(x)"
   ]
  },
  {
   "cell_type": "code",
   "execution_count": 81,
   "metadata": {},
   "outputs": [],
   "source": [
    "scores = np.zeros(len(sentences))\n",
    "for i in range (len(sentences)):\n",
    "    scores[i] = get_sentence_score(X[i])"
   ]
  },
  {
   "cell_type": "code",
   "execution_count": 82,
   "metadata": {},
   "outputs": [
    {
     "data": {
      "text/plain": [
       "array([0.07142857, 0.09090909, 0.11111111, 0.125     , 0.08333333,\n",
       "       0.06666667, 0.07142857, 0.09090909, 0.16666667, 0.2       ,\n",
       "       0.07692308, 0.14285714, 0.125     , 0.1       , 0.05263158,\n",
       "       0.07692308, 0.25      , 0.25      , 0.07142857, 0.33333333,\n",
       "       0.04761905, 0.2       , 0.09090909, 0.2       , 0.16666667,\n",
       "       0.11111111])"
      ]
     },
     "execution_count": 82,
     "metadata": {},
     "output_type": "execute_result"
    }
   ],
   "source": [
    "scores"
   ]
  },
  {
   "cell_type": "code",
   "execution_count": 83,
   "metadata": {},
   "outputs": [],
   "source": [
    "sort_index = np.argsort(-scores)"
   ]
  },
  {
   "cell_type": "code",
   "execution_count": 84,
   "metadata": {},
   "outputs": [],
   "source": [
    "#Many options for how to choose which sentences to include:\n",
    "\n",
    "#1) Choose the top N sentences\n",
    "#2) Choose sentences until a certain threshold is reached\n",
    "#3) Choose sentences until a certain number of words is reached\n",
    "#4) Choose top X& sentences or top X% words\n",
    "#5) Choose sentences with scores > average score"
   ]
  },
  {
   "cell_type": "code",
   "execution_count": 85,
   "metadata": {},
   "outputs": [
    {
     "name": "stdout",
     "output_type": "stream",
     "text": [
      "Generated Summary:\n",
      "0.33: Podcasting has also made an appearance in the category.\n",
      "0.25: This is for the top \"replicating idea that spread about weblogs\".\n",
      "0.25: Included in the other categories is best \"meme\".\n",
      "0.20: One of the categories that was scrapped though was best music blog.\n",
      "0.20: Many are done by those who already have text-based blogs, so they are\n",
      "almost like audio blogs.\n"
     ]
    }
   ],
   "source": [
    "print(\"Generated Summary:\")\n",
    "for i in sort_index[0:5]:\n",
    "    print(wrap(\"%.2f: %s\" % (scores[i], sentences[i])))"
   ]
  },
  {
   "cell_type": "code",
   "execution_count": 86,
   "metadata": {},
   "outputs": [
    {
     "data": {
      "text/plain": [
       "'Voters flock to blog awards site'"
      ]
     },
     "execution_count": 86,
     "metadata": {},
     "output_type": "execute_result"
    }
   ],
   "source": [
    "doc.iloc[0].split('\\n', 1)[0]"
   ]
  },
  {
   "cell_type": "code",
   "execution_count": 87,
   "metadata": {},
   "outputs": [
    {
     "name": "stdout",
     "output_type": "stream",
     "text": [
      "0.33: Podcasting has also made an appearance in the category.\n",
      "0.25: This is for the top \"replicating idea that spread about weblogs\".\n",
      "0.25: Included in the other categories is best \"meme\".\n",
      "0.20: Many are done by those who already have text-based blogs, so they are\n",
      "almost like audio blogs.\n",
      "0.20: Several entries reflected specific news events.\n"
     ]
    },
    {
     "data": {
      "text/plain": [
       "'Podcasting has also made an appearance in the category. This is for the top \"replicating idea that spread about weblogs\". Included in the other categories is best \"meme\". Many are done by those who already have text-based blogs, so they are almost like audio blogs. Several entries reflected specific news events.'"
      ]
     },
     "execution_count": 87,
     "metadata": {},
     "output_type": "execute_result"
    }
   ],
   "source": [
    "def summarize(text):\n",
    "    #extract sentences\n",
    "    sentences = nltk.sent_tokenize(text)\n",
    "    \n",
    "    #perform tfidf\n",
    "    x = featurizer.fit_transform(sentences)\n",
    "    \n",
    "    #compute sentence scores\n",
    "    scores = np.zeros(len(sentences))\n",
    "    for i in range (len(sentences)):\n",
    "        scores[i] = get_sentence_score(x[i])\n",
    "        \n",
    "    #sort sentences by score\n",
    "    sort_index = np.argsort(-scores)\n",
    "    \n",
    "    #print summary\n",
    "    for i in sort_index[0:5]:\n",
    "        print(wrap(\"%.2f: %s\" % (scores[i], sentences[i])))\n",
    "        \n",
    "    return  \" \".join([sentences[i] for i in sort_index[0:5]])\n",
    "\n",
    "summarize(doc.iloc[0])\n",
    "        "
   ]
  },
  {
   "cell_type": "code",
   "execution_count": 88,
   "metadata": {},
   "outputs": [
    {
     "name": "stdout",
     "output_type": "stream",
     "text": [
      "Voters flock to blog awards site\n",
      "\n",
      "Voting is under way for the annual Bloggies\n",
      "which recognise the best web blogs - online spaces where people publish their\n",
      "thoughts - of the year.\n",
      "\n",
      "Nominations were announced on Sunday, but traffic to\n",
      "the official site was so heavy that the website was temporarily closed because\n",
      "of too many visitors.  Weblogs have been nominated in 30 categories, from the\n",
      "top regional blog, to the best-kept-secret blog.  Blogs had a huge year, with a\n",
      "top US dictionary naming \"blog\" word of 2004. Technorati, a blog search engine,\n",
      "tracks about six million blogs and says that more than 12,000 are added daily.\n",
      "A blog is created every 5.8 seconds, according to US research think-tank Pew\n",
      "Internet and American Life, but less than 40% of the total are updated at least\n",
      "once every two months.\n",
      "\n",
      "Nikolai Nolan, who has run the Bloggies for the past\n",
      "five years, told the BBC News website he was not too surprised by the amount of\n",
      "voters who crowded the site.  \"The awards always get a lot of traffic; this was\n",
      "just my first year on a server with a bandwidth limit, so I had to guess how\n",
      "much I'd need,\" he said.  There were many new finalists this year, he added, and\n",
      "a few that had won Bloggies before.  Several entries reflected specific news\n",
      "events.  \"There are four nominations for the South-East Asia Earthquake and\n",
      "Tsunami Blog, which is a pretty timely one for 2005,\" said Mr Nolan.\n",
      "\n",
      "The big\n",
      "Bloggies battle will be for the ultimate prize of blog of the year.  The\n",
      "nominated blogs are wide-ranging covering what is in the news to quirky sites of\n",
      "interest.  Fighting it out for the coveted award are Gawker, This Fish Needs a\n",
      "Bicycle, Wonkette, Boing Boing, and Gothamist.  In a sign that blogs are playing\n",
      "an increasingly key part in spreading news and current affairs, The South-East\n",
      "Asia Earthquake and Tsunami Blog is also nominated in the best overall category.\n",
      "GreenFairyDotcom, Londonist, Hicksdesign, PlasticBag and London Underground Tube\n",
      "Blog are the nominees in the best British or Irish weblog.\n",
      "\n",
      "Included in the\n",
      "other categories is best \"meme\". This is for the top \"replicating idea that\n",
      "spread about weblogs\". Nominations include Flickr, a web photo album which lets\n",
      "people upload, tag, share and publish their images to blogs.  Podcasting has\n",
      "also made an appearance in the category.  It is an increasingly popular idea\n",
      "that makes use of RSS (really simple syndication) and audio technology to let\n",
      "people easily make their own radio shows, and distribute them automatically onto\n",
      "portable devices.\n",
      "\n",
      "Many are done by those who already have text-based blogs, so\n",
      "they are almost like audio blogs.  Three new categories have been added to the\n",
      "list this year, including best food, best entertainment, and best writing of a\n",
      "weblog.  One of the categories that was scrapped though was best music blog.\n",
      "The winners of the fifth annual Bloggies are chosen by the public.  Public\n",
      "voting closes on 3 February and the winners will be announced sometime between\n",
      "13 and 15 March.\n"
     ]
    }
   ],
   "source": [
    "#Let's see the original article\n",
    "print(wrap(doc.iloc[0]))"
   ]
  },
  {
   "attachments": {},
   "cell_type": "markdown",
   "metadata": {},
   "source": [
    "TextRank"
   ]
  },
  {
   "cell_type": "code",
   "execution_count": 89,
   "metadata": {},
   "outputs": [],
   "source": [
    "from sklearn.metrics.pairwise import cosine_similarity\n",
    "#compute similarity matrix\n",
    "S = cosine_similarity(X)"
   ]
  },
  {
   "cell_type": "code",
   "execution_count": 90,
   "metadata": {},
   "outputs": [
    {
     "data": {
      "text/plain": [
       "(26, 26)"
      ]
     },
     "execution_count": 90,
     "metadata": {},
     "output_type": "execute_result"
    }
   ],
   "source": [
    "#sanity check 1\n",
    "S.shape"
   ]
  },
  {
   "cell_type": "code",
   "execution_count": 91,
   "metadata": {},
   "outputs": [
    {
     "data": {
      "text/plain": [
       "26"
      ]
     },
     "execution_count": 91,
     "metadata": {},
     "output_type": "execute_result"
    }
   ],
   "source": [
    "#sanity check 2\n",
    "len(sentences)"
   ]
  },
  {
   "cell_type": "code",
   "execution_count": 92,
   "metadata": {},
   "outputs": [],
   "source": [
    "#normalize similarity matrix\n",
    "S /= S.sum(axis=1, keepdims=True)"
   ]
  },
  {
   "cell_type": "code",
   "execution_count": 93,
   "metadata": {},
   "outputs": [
    {
     "data": {
      "text/plain": [
       "1.0"
      ]
     },
     "execution_count": 93,
     "metadata": {},
     "output_type": "execute_result"
    }
   ],
   "source": [
    "S[0].sum()"
   ]
  },
  {
   "cell_type": "code",
   "execution_count": 94,
   "metadata": {},
   "outputs": [],
   "source": [
    "#uniform transition matrix\n",
    "U = np.ones_like(S) / len(S)"
   ]
  },
  {
   "cell_type": "code",
   "execution_count": 95,
   "metadata": {},
   "outputs": [
    {
     "data": {
      "text/plain": [
       "1.0"
      ]
     },
     "execution_count": 95,
     "metadata": {},
     "output_type": "execute_result"
    }
   ],
   "source": [
    "U[0].sum()"
   ]
  },
  {
   "cell_type": "code",
   "execution_count": 96,
   "metadata": {},
   "outputs": [],
   "source": [
    "#smoothed similarity matrix\n",
    "factor = 0.15\n",
    "S = factor * U + (1 - factor) * S\n"
   ]
  },
  {
   "cell_type": "code",
   "execution_count": 97,
   "metadata": {},
   "outputs": [
    {
     "data": {
      "text/plain": [
       "0.9999999999999999"
      ]
     },
     "execution_count": 97,
     "metadata": {},
     "output_type": "execute_result"
    }
   ],
   "source": [
    "S[0].sum()"
   ]
  },
  {
   "cell_type": "code",
   "execution_count": 98,
   "metadata": {},
   "outputs": [],
   "source": [
    "#find the limiting/stationary distribution\n",
    "eigenvalues, eigenvectors = np.linalg.eig(S.T) #column vectors instead of row vectors"
   ]
  },
  {
   "cell_type": "code",
   "execution_count": 99,
   "metadata": {},
   "outputs": [
    {
     "data": {
      "text/plain": [
       "array([1.        , 0.85      , 0.1973805 , 0.21404042, 0.22410783,\n",
       "       0.25817409, 0.27538405, 0.76476295, 0.74524163, 0.72186333,\n",
       "       0.71598303, 0.6643717 , 0.650821  , 0.65737431, 0.33250475,\n",
       "       0.59036825, 0.5846095 , 0.37185596, 0.3829547 , 0.54364496,\n",
       "       0.51432055, 0.49897741, 0.47260399, 0.46258972, 0.41944837,\n",
       "       0.41497906])"
      ]
     },
     "execution_count": 99,
     "metadata": {},
     "output_type": "execute_result"
    }
   ],
   "source": [
    "eigenvalues"
   ]
  },
  {
   "cell_type": "code",
   "execution_count": 100,
   "metadata": {},
   "outputs": [
    {
     "data": {
      "text/plain": [
       "array([-0.25358391, -0.174233  , -0.25156031, -0.20870332, -0.18358953,\n",
       "       -0.15673951, -0.18403745, -0.16489866, -0.20080612, -0.16233786,\n",
       "       -0.19737093, -0.20817017, -0.18831979, -0.19382641, -0.25941537,\n",
       "       -0.1737381 , -0.19019496, -0.16274129, -0.17910544, -0.1627469 ,\n",
       "       -0.16709509, -0.18609653, -0.24280593, -0.23070393, -0.18615579,\n",
       "       -0.17051023])"
      ]
     },
     "execution_count": 100,
     "metadata": {},
     "output_type": "execute_result"
    }
   ],
   "source": [
    "eigenvectors[:, 0] "
   ]
  },
  {
   "cell_type": "code",
   "execution_count": 101,
   "metadata": {},
   "outputs": [
    {
     "data": {
      "text/plain": [
       "array([-0.25358391, -0.174233  , -0.25156031, -0.20870332, -0.18358953,\n",
       "       -0.15673951, -0.18403745, -0.16489866, -0.20080612, -0.16233786,\n",
       "       -0.19737093, -0.20817017, -0.18831979, -0.19382641, -0.25941537,\n",
       "       -0.1737381 , -0.19019496, -0.16274129, -0.17910544, -0.1627469 ,\n",
       "       -0.16709509, -0.18609653, -0.24280593, -0.23070393, -0.18615579,\n",
       "       -0.17051023])"
      ]
     },
     "execution_count": 101,
     "metadata": {},
     "output_type": "execute_result"
    }
   ],
   "source": [
    "eigenvectors[:, 0].dot(S) #proper eigenvector"
   ]
  },
  {
   "cell_type": "code",
   "execution_count": 102,
   "metadata": {},
   "outputs": [
    {
     "name": "stdout",
     "output_type": "stream",
     "text": [
      "Converged after 48 iterations\n"
     ]
    }
   ],
   "source": [
    "limiting_distribution = np.ones(len(S)) / len(S)\n",
    "threshold = 1e-8\n",
    "delta = float('inf')\n",
    "iters = 0\n",
    "while delta > threshold:\n",
    "    iters += 1\n",
    "    #Markov transition\n",
    "    p = limiting_distribution.dot(S)\n",
    "    #compute change in limiting distribution\n",
    "    delta = np.abs(p - limiting_distribution).sum()\n",
    "    #update limiting distribution\n",
    "    limiting_distribution = p\n",
    "    \n",
    "print(\"Converged after %d iterations\" % iters)"
   ]
  },
  {
   "cell_type": "code",
   "execution_count": 103,
   "metadata": {},
   "outputs": [
    {
     "data": {
      "text/plain": [
       "array([0.05031939, 0.03457356, 0.04991784, 0.04141361, 0.03643021,\n",
       "       0.03110228, 0.03651909, 0.03272132, 0.03984654, 0.03221318,\n",
       "       0.03916489, 0.04130781, 0.03736885, 0.03846154, 0.05147655,\n",
       "       0.03447536, 0.03774094, 0.03229323, 0.03554041, 0.03229435,\n",
       "       0.03315717, 0.03692768, 0.04818069, 0.04577925, 0.03693944,\n",
       "       0.03383484])"
      ]
     },
     "execution_count": 103,
     "metadata": {},
     "output_type": "execute_result"
    }
   ],
   "source": [
    "limiting_distribution"
   ]
  },
  {
   "cell_type": "code",
   "execution_count": 104,
   "metadata": {},
   "outputs": [
    {
     "data": {
      "text/plain": [
       "0.9999999999999984"
      ]
     },
     "execution_count": 104,
     "metadata": {},
     "output_type": "execute_result"
    }
   ],
   "source": [
    "limiting_distribution.sum()"
   ]
  },
  {
   "cell_type": "code",
   "execution_count": 105,
   "metadata": {},
   "outputs": [
    {
     "data": {
      "text/plain": [
       "2.8680860016810916e-08"
      ]
     },
     "execution_count": 105,
     "metadata": {},
     "output_type": "execute_result"
    }
   ],
   "source": [
    "np.abs(eigenvectors[:, 0] / eigenvectors[:, 0].sum() - limiting_distribution).sum()"
   ]
  },
  {
   "cell_type": "code",
   "execution_count": 106,
   "metadata": {},
   "outputs": [],
   "source": [
    "scores = limiting_distribution #TextRank scores"
   ]
  },
  {
   "cell_type": "code",
   "execution_count": 107,
   "metadata": {},
   "outputs": [],
   "source": [
    "sort_index = np.argsort(-scores)"
   ]
  },
  {
   "cell_type": "code",
   "execution_count": 108,
   "metadata": {},
   "outputs": [
    {
     "name": "stdout",
     "output_type": "stream",
     "text": [
      "Generated Summary:\n",
      "0.05: In a sign that blogs are playing an increasingly key part in spreading\n",
      "news and current affairs, The South-East Asia Earthquake and Tsunami Blog is\n",
      "also nominated in the best overall category.\n",
      "0.05: \n",
      "Voting is under way for the annual Bloggies which recognise the best web\n",
      "blogs - online spaces where people publish their thoughts - of the year.\n",
      "0.05: Weblogs have been nominated in 30 categories, from the top regional blog,\n",
      "to the best-kept-secret blog.\n",
      "0.05: Three new categories have been added to the list this year, including best\n",
      "food, best entertainment, and best writing of a weblog.\n",
      "0.05: One of the categories that was scrapped though was best music blog.\n"
     ]
    }
   ],
   "source": [
    "print(\"Generated Summary:\")\n",
    "for i in sort_index[0:5]:\n",
    "    print(wrap(\"%.2f: %s\" % (scores[i], sentences[i])))"
   ]
  },
  {
   "cell_type": "code",
   "execution_count": 109,
   "metadata": {},
   "outputs": [
    {
     "data": {
      "text/plain": [
       "'Voters flock to blog awards site'"
      ]
     },
     "execution_count": 109,
     "metadata": {},
     "output_type": "execute_result"
    }
   ],
   "source": [
    "doc.iloc[0].split('\\n')[0]"
   ]
  },
  {
   "cell_type": "code",
   "execution_count": 110,
   "metadata": {},
   "outputs": [],
   "source": [
    "def summarize(text, factor=0.15, threshold=1e-8):\n",
    "    #extract sentences\n",
    "    sentences = nltk.sent_tokenize(text)\n",
    "    \n",
    "    #perform tfidf\n",
    "    x = featurizer.fit_transform(sentences)\n",
    "    \n",
    "    #compute similarity matrix\n",
    "    S = cosine_similarity(x)\n",
    "    \n",
    "    #normalize similarity matrix\n",
    "    S /= S.sum(axis=1, keepdims=True)\n",
    "    \n",
    "    #uniform transition matrix\n",
    "    U = np.ones_like(S) / len(S)\n",
    "    \n",
    "    #smoothed similarity matrix\n",
    "    S = factor * U + (1 - factor) * S\n",
    "    \n",
    "    #find the limiting/stationary distribution\n",
    "    limiting_distribution = np.ones(len(S)) / len(S)\n",
    "    delta = float('inf')\n",
    "    iters = 0\n",
    "    while delta > threshold:\n",
    "        iters += 1\n",
    "        #Markov transition\n",
    "        p = limiting_distribution.dot(S)\n",
    "        #compute change in limiting distribution\n",
    "        delta = np.abs(p - limiting_distribution).sum()\n",
    "        #update limiting distribution\n",
    "        limiting_distribution = p\n",
    "    \n",
    "    #print summary\n",
    "    scores = limiting_distribution\n",
    "    sort_index = np.argsort(-scores)\n",
    "    for i in sort_index[0:5]:\n",
    "        print(wrap(\"%.2f: %s\" % (scores[i], sentences[i])))\n",
    "        \n",
    "    return  \" \".join([sentences[i] for i in sort_index[0:5]])"
   ]
  },
  {
   "cell_type": "code",
   "execution_count": 111,
   "metadata": {},
   "outputs": [
    {
     "name": "stdout",
     "output_type": "stream",
     "text": [
      "0.06: Voters flock to blog awards site\n",
      "\n",
      "Voting is under way for the annual\n",
      "Bloggies which recognise the best web blogs - online spaces where people publish\n",
      "their thoughts - of the year.\n",
      "0.05: In a sign that blogs are playing an increasingly key part in spreading\n",
      "news and current affairs, The South-East Asia Earthquake and Tsunami Blog is\n",
      "also nominated in the best overall category.\n",
      "0.05: Weblogs have been nominated in 30 categories, from the top regional blog,\n",
      "to the best-kept-secret blog.\n",
      "0.05: Three new categories have been added to the list this year, including best\n",
      "food, best entertainment, and best writing of a weblog.\n",
      "0.05: One of the categories that was scrapped though was best music blog.\n"
     ]
    },
    {
     "data": {
      "text/plain": [
       "'Voters flock to blog awards site\\n\\nVoting is under way for the annual Bloggies which recognise the best web blogs - online spaces where people publish their thoughts - of the year. In a sign that blogs are playing an increasingly key part in spreading news and current affairs, The South-East Asia Earthquake and Tsunami Blog is also nominated in the best overall category. Weblogs have been nominated in 30 categories, from the top regional blog, to the best-kept-secret blog. Three new categories have been added to the list this year, including best food, best entertainment, and best writing of a weblog. One of the categories that was scrapped though was best music blog.'"
      ]
     },
     "execution_count": 111,
     "metadata": {},
     "output_type": "execute_result"
    }
   ],
   "source": [
    "summarize(doc.iloc[0])"
   ]
  },
  {
   "cell_type": "code",
   "execution_count": null,
   "metadata": {},
   "outputs": [],
   "source": []
  }
 ],
 "metadata": {
  "kernelspec": {
   "display_name": "Python 3",
   "language": "python",
   "name": "python3"
  },
  "language_info": {
   "codemirror_mode": {
    "name": "ipython",
    "version": 3
   },
   "file_extension": ".py",
   "mimetype": "text/x-python",
   "name": "python",
   "nbconvert_exporter": "python",
   "pygments_lexer": "ipython3",
   "version": "3.11.0"
  },
  "orig_nbformat": 4,
  "vscode": {
   "interpreter": {
    "hash": "48568052eec3e48bec5163d0241420ad0cb3738ffc0c56fbb083086b8e264995"
   }
  }
 },
 "nbformat": 4,
 "nbformat_minor": 2
}
