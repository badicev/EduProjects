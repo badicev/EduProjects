{
 "cells": [
  {
   "attachments": {},
   "cell_type": "markdown",
   "metadata": {},
   "source": [
    "                                 \n",
    "                                      Cipher Decryption  "
   ]
  },
  {
   "attachments": {},
   "cell_type": "markdown",
   "metadata": {},
   "source": [
    "<small><image src=\"https://wallpaperaccess.com/full/1820624.jpg\" width=2200 height=400></small>"
   ]
  },
  {
   "attachments": {},
   "cell_type": "markdown",
   "metadata": {},
   "source": [
    "<small>*What is a cipher?*\n",
    "* Encode + Decode a message\n",
    "\n",
    "*Language Modeling*\n",
    "* What is the probability of this sentence?\n",
    "* Can generate new sentences (poetry, article spinning)\n",
    "\n",
    "*Genetic algorithm/evolutionary algorithm*\n",
    "* Optimization based on biological evolution\n",
    "\n",
    "*Our decoded message should have the highest likelihood if the model is trained on the English language*\n",
    "* A message not in English should have a smaller likelihood(\"maximum likelihood\")\n",
    "\n",
    "</small>"
   ]
  },
  {
   "cell_type": "markdown",
   "metadata": {},
   "source": []
  }
 ],
 "metadata": {
  "kernelspec": {
   "display_name": "Python 3",
   "language": "python",
   "name": "python3"
  },
  "language_info": {
   "name": "python",
   "version": "3.11.0 (main, Oct 24 2022, 18:26:48) [MSC v.1933 64 bit (AMD64)]"
  },
  "orig_nbformat": 4,
  "vscode": {
   "interpreter": {
    "hash": "48568052eec3e48bec5163d0241420ad0cb3738ffc0c56fbb083086b8e264995"
   }
  }
 },
 "nbformat": 4,
 "nbformat_minor": 2
}
